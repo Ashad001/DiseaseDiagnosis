{
  "nbformat": 4,
  "nbformat_minor": 0,
  "metadata": {
    "colab": {
      "provenance": [],
      "authorship_tag": "ABX9TyPszHqSfHnwr4v2PGOmBS2f",
      "include_colab_link": true
    },
    "kernelspec": {
      "name": "python3",
      "display_name": "Python 3"
    },
    "language_info": {
      "name": "python"
    }
  },
  "cells": [
    {
      "cell_type": "markdown",
      "metadata": {
        "id": "view-in-github",
        "colab_type": "text"
      },
      "source": [
        "<a href=\"https://colab.research.google.com/github/Ashad001/DiseaseDiagnosis/blob/main/Disease_Diagnosis.ipynb\" target=\"_parent\"><img src=\"https://colab.research.google.com/assets/colab-badge.svg\" alt=\"Open In Colab\"/></a>"
      ]
    },
    {
      "cell_type": "code",
      "source": [
        "!pip install cython\n",
        "!pip install pomegranate==v0.14.9\n"
      ],
      "metadata": {
        "colab": {
          "base_uri": "https://localhost:8080/"
        },
        "id": "Ce36HueB4j7k",
        "outputId": "99708f87-6a57-4343-bf67-7c36a65ea9a9"
      },
      "execution_count": 1,
      "outputs": [
        {
          "output_type": "stream",
          "name": "stdout",
          "text": [
            "Requirement already satisfied: cython in /usr/local/lib/python3.10/dist-packages (3.0.10)\n",
            "Collecting pomegranate==v0.14.9\n",
            "  Downloading pomegranate-0.14.9.tar.gz (4.7 MB)\n",
            "\u001b[2K     \u001b[90m━━━━━━━━━━━━━━━━━━━━━━━━━━━━━━━━━━━━━━━━\u001b[0m \u001b[32m4.7/4.7 MB\u001b[0m \u001b[31m15.5 MB/s\u001b[0m eta \u001b[36m0:00:00\u001b[0m\n",
            "\u001b[?25h  Installing build dependencies ... \u001b[?25l\u001b[?25hdone\n",
            "  Getting requirements to build wheel ... \u001b[?25l\u001b[?25hdone\n",
            "  Preparing metadata (pyproject.toml) ... \u001b[?25l\u001b[?25hdone\n",
            "Collecting cython<3.0.0,>=0.22.1 (from pomegranate==v0.14.9)\n",
            "  Using cached Cython-0.29.37-cp310-cp310-manylinux_2_17_x86_64.manylinux2014_x86_64.manylinux_2_24_x86_64.whl (1.9 MB)\n",
            "Requirement already satisfied: numpy>=1.20.0 in /usr/local/lib/python3.10/dist-packages (from pomegranate==v0.14.9) (1.25.2)\n",
            "Requirement already satisfied: joblib>=0.9.0b4 in /usr/local/lib/python3.10/dist-packages (from pomegranate==v0.14.9) (1.4.2)\n",
            "Requirement already satisfied: networkx>=2.4 in /usr/local/lib/python3.10/dist-packages (from pomegranate==v0.14.9) (3.3)\n",
            "Requirement already satisfied: scipy>=0.17.0 in /usr/local/lib/python3.10/dist-packages (from pomegranate==v0.14.9) (1.11.4)\n",
            "Requirement already satisfied: pyyaml in /usr/local/lib/python3.10/dist-packages (from pomegranate==v0.14.9) (6.0.1)\n",
            "Building wheels for collected packages: pomegranate\n",
            "  Building wheel for pomegranate (pyproject.toml) ... \u001b[?25l\u001b[?25hdone\n",
            "  Created wheel for pomegranate: filename=pomegranate-0.14.9-cp310-cp310-linux_x86_64.whl size=18331557 sha256=83de5e120860f21e8501025073fd98acb4cddce9f648bbf5531206ad7304f0b0\n",
            "  Stored in directory: /root/.cache/pip/wheels/14/e7/b2/189a2d351ac4ae073cfa17ce9d56936d59af5712a18028fc31\n",
            "Successfully built pomegranate\n",
            "Installing collected packages: cython, pomegranate\n",
            "  Attempting uninstall: cython\n",
            "    Found existing installation: Cython 3.0.10\n",
            "    Uninstalling Cython-3.0.10:\n",
            "      Successfully uninstalled Cython-3.0.10\n",
            "Successfully installed cython-0.29.37 pomegranate-0.14.9\n"
          ]
        }
      ]
    },
    {
      "cell_type": "code",
      "execution_count": 2,
      "metadata": {
        "id": "c-o1TnCg3bRt",
        "colab": {
          "base_uri": "https://localhost:8080/"
        },
        "outputId": "3a66267e-b2ae-4699-b5af-2293d3bc3be8"
      },
      "outputs": [
        {
          "output_type": "stream",
          "name": "stdout",
          "text": [
            "Probability of a young male having fever: 0.01600000000000001\n",
            "Probability of not having a rash given a female having CommonY Disease: 0.12500000000000003\n"
          ]
        }
      ],
      "source": [
        "from pomegranate import *\n",
        "\n",
        "desease = DiscreteDistribution({\"RareX\": 0.1, \"CommonY\": 0.5, \"UnCommonY\": 0.4}) # 0.1 + 0.5 + 0.4 = 1\n",
        "age_group = DiscreteDistribution({\"Young\": 0.2, \"Middle\": 0.5, \"Old\": 0.3}) # 0.2 + 0.5 + 0.3 = 1\n",
        "gender_group = DiscreteDistribution({\"Male\": 0.5, \"Female\": 0.5}) # 0.5 + 0.5 = 1\n",
        "\n",
        "\n",
        "# P(Fever | Disease, agr)\n",
        "fever = ConditionalProbabilityTable([\n",
        "    [\"RareX\", \"Young\", \"True\", 0.8],\n",
        "    [\"RareX\", \"Young\", \"False\", 0.2], # 0.8 + 0.2 = 1\n",
        "    [\"RareX\", \"Middle\", \"True\", 0.7],\n",
        "    [\"RareX\", \"Middle\", \"False\", 0.3], # 0.7 + 0.3 = 1 and so on\n",
        "    [\"RareX\", \"Old\", \"True\", 0.6],\n",
        "    [\"RareX\", \"Old\", \"False\", 0.4],\n",
        "    [\"CommonY\", \"Young\", \"True\", 0.4],\n",
        "    [\"CommonY\", \"Young\", \"False\", 0.6],\n",
        "    [\"CommonY\", \"Middle\", \"True\", 0.3],\n",
        "    [\"CommonY\", \"Middle\", \"False\", 0.7],\n",
        "    [\"CommonY\", \"Old\", \"True\", 0.2],\n",
        "    [\"CommonY\", \"Old\", \"False\", 0.8],\n",
        "    [\"UnCommonY\", \"Young\", \"True\", 0.5],\n",
        "    [\"UnCommonY\", \"Young\", \"False\", 0.5],\n",
        "    [\"UnCommonY\", \"Middle\", \"True\", 0.4],\n",
        "    [\"UnCommonY\", \"Middle\", \"False\", 0.6],\n",
        "    [\"UnCommonY\", \"Old\", \"True\", 0.3],\n",
        "    [\"UnCommonY\", \"Old\", \"False\", 0.7]\n",
        "], [desease, age_group])\n",
        "\n",
        "# P(Rash | Disease, Gender)\n",
        "rash = ConditionalProbabilityTable([\n",
        "    [\"UnCommonY\", \"Male\", \"True\", 0.8],  # 0.8 + 0.2 = 1\n",
        "    [\"UnCommonY\", \"Female\", \"False\", 0.2],\n",
        "    [\"UnCommonY\", \"Male\", \"False\", 0.7],\n",
        "    [\"UnCommonY\", \"Female\", \"True\", 0.3],\n",
        "    [\"CommonY\", \"Male\", \"False\", 0.6],\n",
        "    [\"CommonY\", \"Male\", \"True\", 0.4],\n",
        "    [\"CommonY\", \"Female\", \"True\", 0.5],\n",
        "    [\"CommonY\", \"Female\", \"False\", 0.5],\n",
        "    [\"RareX\", \"Male\", \"False\", 0.4],\n",
        "    [\"RareX\", \"Male\", \"True\", 0.6],\n",
        "    [\"RareX\", \"Female\", \"True\", 0.3],\n",
        "    [\"RareX\", \"Female\", \"False\", 0.7],\n",
        "], [desease, gender_group])\n",
        "\n",
        "# P(Joint Pain | Disease)\n",
        "joint_pain = ConditionalProbabilityTable([\n",
        "    [\"RareX\", \"True\", 0.8],\n",
        "    [\"RareX\", \"False\", 0.2],\n",
        "    [\"CommonY\", \"True\", 0.6],\n",
        "    [\"CommonY\", \"False\", 0.4],\n",
        "    [\"UnCommonY\", \"True\", 0.4],\n",
        "    [\"UnCommonY\", \"False\", 0.6]\n",
        "], [desease])\n",
        "\n",
        "\n",
        "# Make states\n",
        "s1 = State(desease, name=\"Disease\")\n",
        "s2 = State(age_group, name=\"Age\")\n",
        "s3 = State(gender_group, name=\"Gender\")\n",
        "s4 = State(fever, name=\"Fever\")\n",
        "s5 = State(rash, name=\"Rash\")\n",
        "s6 = State(joint_pain, name=\"Joint Pain\")\n",
        "\n",
        "fever_network = BayesianNetwork(\"Fever Diagnosis\")\n",
        "fever_network.add_states(s1, s2, s4) # S4 is the fever and below is following the expression # P(Fever | Disease, age)\n",
        "fever_network.add_edge(s1, s4)\n",
        "fever_network.add_edge(s2, s4)\n",
        "# fever_network.add_edge(s3, s4)\n",
        "fever_network.bake()\n",
        "\n",
        "import numpy as np\n",
        "# Below line shows a young male having a fever with RareX disease\n",
        "X = [\"RareX\", \"Young\", \"True\"]\n",
        "X = np.array(X, ndmin=2) # Changing the X to a 2 dim vector (https://github.com/jmschrei/pomegranate/issues/672)\n",
        "pred = fever_network.probability(X)\n",
        "print(f\"Probability of a young male having fever: {pred}\")\n",
        "\n",
        "rash_network = BayesianNetwork(\"Rash Diagnosis\")\n",
        "rash_network.add_states(s1, s3, s5) # S5 is Rash and below is following the expression # P(Rash | Disease, gender)\n",
        "rash_network.add_edge(s1, s5)\n",
        "rash_network.add_edge(s3, s5)\n",
        "rash_network.bake()\n",
        "\n",
        "import numpy as np\n",
        "# Below line shows a female not having a rash with CommonY disease\n",
        "X = [\"CommonY\", \"Female\", \"False\"]\n",
        "X = np.array(X, ndmin=2)\n",
        "pred = rash_network.probability(X)\n",
        "print(f\"Probability of not having a rash given a female having CommonY Disease: {pred}\")\n",
        "\n",
        "\n"
      ]
    }
  ]
}